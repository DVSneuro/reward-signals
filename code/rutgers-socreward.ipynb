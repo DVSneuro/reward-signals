{
 "cells": [
  {
   "cell_type": "code",
   "execution_count": 40,
   "metadata": {},
   "outputs": [],
   "source": [
    "import pandas as pd\n",
    "import glob\n",
    "import numpy as np\n",
    "import matplotlib.pyplot as plt\n",
    "import pandas as pd\n",
    "pd.options.mode.chained_assignment = None  "
   ]
  },
  {
   "cell_type": "code",
   "execution_count": 41,
   "metadata": {},
   "outputs": [],
   "source": [
    "df_list = glob.glob('../data/behavioral/sub-10*')"
   ]
  },
  {
   "cell_type": "code",
   "execution_count": 73,
   "metadata": {},
   "outputs": [],
   "source": [
    "#functions that can be used to make columns\n",
    "\n",
    "\n",
    "#previous trial was a win and marginally larger than the prior that was also a win. apply within choices maintains \"stays\"\n",
    "\n",
    "def win_stay(row):\n",
    "    if (\n",
    "        (row['prev_deckchoice'] == row['deckchoice']) and \n",
    "        (row['point_total'] > (row['prev_points'] + 3))\n",
    "        ):\n",
    "        return 1\n",
    "    else:\n",
    "        return 0\n",
    "    \n",
    "def lose_switch(row):\n",
    "    if (\n",
    "        (row['prev_deckchoice'] != row['deckchoice']) and \n",
    "         (row['point_total'] < (row['prev_points'] -3))\n",
    "        ):\n",
    "        return 1\n",
    "    else:\n",
    "        return 0\n",
    "\n",
    "#previous partner social or nonsocial (computer)\n",
    "\n",
    "def win_stay_partner_prev_soc(row):\n",
    "    if (row['win_stay'] == 1 and \n",
    "       row['prev_partner'] == 1\n",
    "       ):\n",
    "        return 1\n",
    "    else:\n",
    "        return 0\n",
    "    \n",
    "def win_stay_partner_prev_comp(row):\n",
    "    if (row['win_stay'] == 1 and\n",
    "        row['prev_partner'] == 0\n",
    "        ):\n",
    "        return 1\n",
    "    else:\n",
    "        return 0\n",
    "    \n",
    "def lose_switch_partner_prev_soc(row):\n",
    "    if (row['lose_switch'] == 1 and \n",
    "       row['prev_partner'] == 1\n",
    "        ):\n",
    "        return 1\n",
    "    else:\n",
    "        return 0\n",
    "    \n",
    "def lose_switch_partner_prev_comp(row):\n",
    "    if (row['lose_switch'] == 1 and \n",
    "       row['prev_partner'] == 0\n",
    "       ):\n",
    "        return 1\n",
    "    else:\n",
    "        return 0\n",
    "    \n",
    "#current trial social or nonsocial\n",
    "\n",
    "#win stay\n",
    "def win_stay_partner_current_soc(row):\n",
    "    if row['win_stay'] == 1 and row['partner'] == 1:\n",
    "        return 1\n",
    "    else:\n",
    "        return 0\n",
    "\n",
    "def win_stay_partner_current_comp(row):\n",
    "    if row['win_stay'] == 1 and row['partner'] == 0:\n",
    "        return 1\n",
    "    else:\n",
    "        return 0\n",
    "\n",
    "#lose switch\n",
    "def lose_switch_partner_current_soc(row):\n",
    "    if row['lose_switch'] == 1 and row['partner'] == 1:\n",
    "        return 1\n",
    "    else:\n",
    "        return 0\n",
    "\n",
    "def lose_switch_partner_current_comp(row):\n",
    "    if row['lose_switch'] == 1 and row['partner'] == 0:\n",
    "        return 1\n",
    "    else:\n",
    "        return 0\n",
    "    \n",
    "def affective_prior_win(row):\n",
    "    pass\n",
    "\n",
    "def affective_prior_loss(row):\n",
    "    pass"
   ]
  },
  {
   "cell_type": "code",
   "execution_count": 74,
   "metadata": {},
   "outputs": [],
   "source": [
    "class SubjectBehavior:\n",
    "    def __init__(self):\n",
    "        self.name = name\n",
    "    "
   ]
  },
  {
   "cell_type": "code",
   "execution_count": 75,
   "metadata": {},
   "outputs": [],
   "source": [
    "#6 columns, sub per row 3 for win stay 3 for lose shift"
   ]
  },
  {
   "cell_type": "code",
   "execution_count": 76,
   "metadata": {},
   "outputs": [],
   "source": [
    "wins = []\n",
    "loss = []\n",
    "\n",
    "win_stay_prev_comp_l = []\n",
    "win_stay_prev_soc_l = []\n",
    "\n",
    "win_stay_current_comp_l = []\n",
    "win_stay_current_soc_l = []\n",
    "\n",
    "\n",
    "for i in df_list:\n",
    "    df = pd.read_csv(i)\n",
    "\n",
    "    #sets up columns with shift function to allow above functions to run per row\n",
    "    #df.loc[df['prev_win']] = df['soc_win'].shift()\n",
    "    #df['earlier_win'] = df['prev_win'].shift()\n",
    "    \n",
    "    #shift for deck choice\n",
    "    df['prev_deckchoice'] = df['deckchoice'].shift()\n",
    "\n",
    "    #shifts for points\n",
    "    df['prev_points'] = df['point_total'].shift()\n",
    "    \n",
    "    #partner\n",
    "    df['prev_partner'] = df['partner'].shift()\n",
    "\n",
    "    #apply functions \n",
    "    \n",
    "    df['win_stay'] = df.apply(win_stay, axis=1)  \n",
    "    df['lose_switch'] = df.apply(lose_switch, axis=1)\n",
    "\n",
    "    df['win_stay_partner_prev_comp'] = df.apply(win_stay_partner_prev_comp, axis=1)\n",
    "    df['win_stay_partner_prev_soc'] = df.apply(win_stay_partner_prev_soc, axis=1)\n",
    "    \n",
    "    df['win_stay_partner_current_comp'] = df.apply(win_stay_partner_current_comp, axis=1)\n",
    "    df['win_stay_partner_current_soc'] = df.apply(win_stay_partner_current_soc, axis=1)\n",
    "    \n",
    "    all_wins = (df['point_total'] > df['prev_points'] + 3).count()\n",
    "    all_loss = (df['point_total'] < df['prev_points'] - 3).count()\n",
    "    \n",
    "    win_stays = (df['win_stay'].sum())\n",
    "    lose_switches = (df['lose_switch'].sum())\n",
    "     \n",
    "    win_stay_prev_comp = (df['win_stay_partner_prev_comp'].sum())\n",
    "    win_stay_prev_soc = (df['win_stay_partner_prev_soc'].sum())\n",
    "    \n",
    "    win_stay_current_comp = (df['win_stay_partner_current_comp'].sum())\n",
    "    win_stay_current_soc = (df['win_stay_partner_current_soc'].sum())\n",
    "    \n",
    "    #calculate averages\n",
    "    win_stay_perc = win_stays / all_wins\n",
    "    lose_switch_perc = lose_switches / all_loss\n",
    "\n",
    "    win_stay_prev_comp_perc = win_stay_prev_comp / all_wins\n",
    "    win_stay_prev_soc_perc = win_stay_prev_soc / all_loss\n",
    "    \n",
    "    win_stay_current_comp_perc = win_stay_current_comp / all_wins\n",
    "    win_stay_current_soc_perc = win_stay_current_soc / all_loss\n",
    "    \n",
    "    \n",
    "    #add to list\n",
    "    wins.append(win_stay_perc)\n",
    "    loss.append(lose_switch_perc)\n",
    "\n",
    "    win_stay_prev_comp_l.append(win_stay_prev_comp_perc)\n",
    "    win_stay_prev_soc_l.append(win_stay_prev_soc_perc)\n",
    "       \n",
    "    win_stay_current_comp_l.append(win_stay_current_comp_perc)\n",
    "    win_stay_current_soc_l.append(win_stay_current_soc_perc)"
   ]
  },
  {
   "cell_type": "code",
   "execution_count": 77,
   "metadata": {},
   "outputs": [],
   "source": [
    "win_stay_mean = np.mean(wins)\n",
    "loss_switch_mean = np.mean(loss)\n",
    "\n",
    "win_stay_error = np.std(wins)\n",
    "loss_switch_error = np.std(loss)"
   ]
  },
  {
   "cell_type": "code",
   "execution_count": 78,
   "metadata": {},
   "outputs": [
    {
     "data": {
      "text/plain": [
       "<BarContainer object of 2 artists>"
      ]
     },
     "execution_count": 78,
     "metadata": {},
     "output_type": "execute_result"
    },
    {
     "data": {
      "image/png": "[encoded data removed]",
      "text/plain": [
       "<Figure size 432x288 with 1 Axes>"
      ]
     },
     "metadata": {
      "needs_background": "light"
     },
     "output_type": "display_data"
    }
   ],
   "source": [
    "fig = plt.figure()\n",
    "strategies = ['win_stay', 'lose_switch']\n",
    "plt.xlabel('strategies')\n",
    "plt.ylabel('percentage of wins or losses')\n",
    "plt.bar(x = strategies, height = [win_stay_mean,loss_switch_mean], yerr = [win_stay_error, loss_switch_error])"
   ]
  },
  {
   "cell_type": "code",
   "execution_count": 70,
   "metadata": {},
   "outputs": [
    {
     "name": "stdout",
     "output_type": "stream",
     "text": [
      "0.1138888888888889\n"
     ]
    }
   ],
   "source": [
    "win_stay_prev_comp_l_mean = np.mean(win_stay_prev_comp_l)\n",
    "win_stay_prev_soc_l_mean = np.mean(win_stay_prev_soc_l)\n",
    "print(win_stay_prev_comp_l_mean)\n",
    "win_stay_prev_comp_l_error = np.std(win_stay_prev_comp_l)\n",
    "win_stay_prev_soc_l_error = np.std(win_stay_prev_soc_l)"
   ]
  },
  {
   "cell_type": "code",
   "execution_count": 71,
   "metadata": {},
   "outputs": [
    {
     "data": {
      "text/plain": [
       "<BarContainer object of 2 artists>"
      ]
     },
     "execution_count": 71,
     "metadata": {},
     "output_type": "execute_result"
    },
    {
     "data": {
      "image/png": "[encoded data removed]",
      "text/plain": [
       "<Figure size 432x288 with 1 Axes>"
      ]
     },
     "metadata": {
      "needs_background": "light"
     },
     "output_type": "display_data"
    }
   ],
   "source": [
    "fig = plt.figure()\n",
    "strategies = ['win_stay_prev_computer', 'win_stay_prev_soc']\n",
    "plt.xlabel('strategies')\n",
    "plt.ylabel('percentage of wins or losses')\n",
    "plt.bar(x = strategies, height = [win_stay_prev_comp_l_mean,win_stay_prev_soc_l_mean], yerr = [win_stay_prev_comp_l_error, win_stay_prev_soc_l_error])"
   ]
  },
  {
   "cell_type": "code",
   "execution_count": 72,
   "metadata": {},
   "outputs": [
    {
     "data": {
      "text/plain": [
       "<BarContainer object of 2 artists>"
      ]
     },
     "execution_count": 72,
     "metadata": {},
     "output_type": "execute_result"
    },
    {
     "data": {
      "image/png": "[encoded data removed]",
      "text/plain": [
       "<Figure size 432x288 with 1 Axes>"
      ]
     },
     "metadata": {
      "needs_background": "light"
     },
     "output_type": "display_data"
    }
   ],
   "source": [
    "win_stay_current_comp_l_mean = np.mean(win_stay_current_comp_l)\n",
    "win_stay_current_soc_l_mean = np.mean(win_stay_current_soc_l)\n",
    "\n",
    "win_stay_current_comp_l_error = np.std(win_stay_current_comp_l)\n",
    "win_stay_current_soc_l_error = np.std(win_stay_current_soc_l)\n",
    "fig = plt.figure()\n",
    "strategies = ['win_stay_current_computer', 'win_stay_current_soc']\n",
    "plt.xlabel('strategies')\n",
    "plt.ylabel('percentage of wins or losses')\n",
    "plt.bar(x = strategies, height = [win_stay_current_comp_l_mean,win_stay_current_soc_l_mean], yerr = [win_stay_current_comp_l_error, win_stay_current_soc_l_error])"
   ]
  },
  {
   "cell_type": "code",
   "execution_count": null,
   "metadata": {},
   "outputs": [],
   "source": []
  }
 ],
 "metadata": {
  "kernelspec": {
   "display_name": "Python 3",
   "language": "python",
   "name": "python3"
  },
  "language_info": {
   "codemirror_mode": {
    "name": "ipython",
    "version": 3
   },
   "file_extension": ".py",
   "mimetype": "text/x-python",
   "name": "python",
   "nbconvert_exporter": "python",
   "pygments_lexer": "ipython3",
   "version": "3.8.2"
  }
 },
 "nbformat": 4,
 "nbformat_minor": 4
}
