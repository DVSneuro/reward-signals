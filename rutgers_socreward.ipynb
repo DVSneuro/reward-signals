{
<<<<<<< HEAD
  "nbformat": 4,
  "nbformat_minor": 0,
  "metadata": {
    "kernelspec": {
      "display_name": "Python 3",
      "language": "python",
      "name": "python3"
    },
    "language_info": {
      "codemirror_mode": {
        "name": "ipython",
        "version": 3
      },
      "file_extension": ".py",
      "mimetype": "text/x-python",
      "name": "python",
      "nbconvert_exporter": "python",
      "pygments_lexer": "ipython3",
      "version": "3.8.2"
    },
    "colab": {
      "name": "rutgers_socreward.ipynb",
      "provenance": [],
      "toc_visible": true
    }
  },
  "cells": [
    {
      "cell_type": "markdown",
      "metadata": {
        "id": "Ehv8slTZxzuB"
      },
      "source": [
        "## Reward Signals\n",
        "Data Collected at Rutgers University by David Smith"
      ]
    },
    {
      "cell_type": "code",
      "metadata": {
        "id": "k2ZWbh3Qx82q",
        "outputId": "b3897c04-2497-41b6-8513-e56d62b8e0a2",
        "colab": {
          "base_uri": "https://localhost:8080/"
        }
      },
      "source": [
        "!git clone https://github.com/CalebRHaynes/reward-signals.git"
      ],
      "execution_count": 2,
      "outputs": [
        {
          "output_type": "stream",
          "text": [
            "Cloning into 'reward-signals'...\n",
            "remote: Enumerating objects: 831, done.\u001b[K\n",
            "remote: Counting objects: 100% (831/831), done.\u001b[K\n",
            "remote: Compressing objects: 100% (800/800), done.\u001b[K\n",
            "remote: Total 1373 (delta 32), reused 828 (delta 30), pack-reused 542\u001b[K\n",
            "Receiving objects: 100% (1373/1373), 16.79 MiB | 22.77 MiB/s, done.\n",
            "Resolving deltas: 100% (85/85), done.\n"
          ],
          "name": "stdout"
        }
      ]
    },
    {
      "cell_type": "code",
      "metadata": {
        "id": "TD62r7mAyAVF",
        "outputId": "2da8c19d-dc31-49c3-b4f8-b28ec69dfd98",
        "colab": {
          "base_uri": "https://localhost:8080/"
        }
      },
      "source": [
        "%cd reward-signals/\r\n",
        "!ls"
      ],
      "execution_count": 11,
      "outputs": [
        {
          "output_type": "stream",
          "text": [
            "/content/reward-signals\n",
            "analyze_behavior.m     make_3col_files_m03.m\t      scanner_practice.m\n",
            "analyze_learning.m     make_3col_files_m04.m\t      ScanningProcedures.docx\n",
            "analyze_ratings.m      make_3col_files_m05.m\t      simulate_points3.m\n",
            "CardTask.m\t       make_3col_files_m06.m\t      SocialExp_MyBad.xlsx\n",
            "data\t\t       make_3col_files_SingleTrial.m  SocRewardTask_outside.m\n",
            "data_csv\t       make_TbTresponses.m\t      SocRewardTask_scanner.m\n",
            "evfiles_m02\t       outcomes.mat\t\t      starstim.m\n",
            "fsl\t\t       poster_figures\t\t      TaskInstructions.docx\n",
            "get_behavior.m\t       ptb\t\t\t      utility.py\n",
            "get_summary.m\t       QA_09-Nov-2016runs.xlsx\t      Vwalk_all_v1.mat\n",
            "imgs\t\t       QA_summary.m\t\t      Vwalk_all_v2.mat\n",
            "InstructionsQuiz.docx  randomwalk3.m\t\t      Vwalk_all_v3.mat\n",
            "L1_SingleTrial.sh      randomwalk4.m\t\t      Vwalk_all_v4.mat\n",
            "make_3col_files.m      rutgers_socreward.ipynb\t      Vwalk_all_v5.mat\n",
            "make_3col_files_m02.m  rw\n"
          ],
          "name": "stdout"
        }
      ]
    },
    {
      "cell_type": "markdown",
      "metadata": {
        "id": "8LlcMlbVxzuI"
      },
      "source": [
        "### Variable Key\n",
        "\n",
        "#### Raw Data Names\n",
        "- soc_win - affective feedback in a trial. 0 lose and 1 is win \n",
        "- partner - 0 is nonsocial and 1  is social\n",
        "- deckchoice - 1 or 2 based on participant choice of option. 1 = star, 2 = pentagon\n",
        "- lapse1 and lapse2 - participant did not respond in respective decision phase\n",
        "\n",
        "#### Derived Data Names\n",
        "##### Columns renamed\n",
        "- index - renamed from raw data index\n",
        "- choice - renamed from raw data column 'deckchoice'\n",
        "- is_social - renamed from raw data column 'partner'\n",
        "- aff_feedback_curr - renamed from raw data 'soc_win'\n",
        "\n",
        "##### Columns derived\n",
        "- aff_feedback_prev - aff_feedback_curr shifted by one trial to reflect trial -1\n",
        "- prev_is_social - is_social shifted by one trial to reflect trial -1\n",
        "- prev_aff_fb - affective feedback in the previous trial, 0 is lose and 1 is win\n",
        "- star_points - known value of option 1 \n",
        "- pentagon_points - known value of option 2 \n",
        "- diff_point - star_points - pentagon_points"
      ]
    },
    {
      "cell_type": "code",
      "metadata": {
        "id": "kXSz_k2kxzuI"
      },
      "source": [
        "import pandas as pd\n",
        "from utility import *\n",
        "\n",
        "#sub class for easy dataframe access\n",
        "class Subject():\n",
        "\n",
        "    def __init__(self, subnum):\n",
        "        self.subnum = subnum\n",
        "        self.matfiles = [i for i in file_list if str(subnum) in i]\n",
        "        self.df = make_derived_df(self.matfiles)"
      ],
      "execution_count": 12,
      "outputs": []
    },
    {
      "cell_type": "markdown",
      "metadata": {
        "id": "NHgTB-4ExzuJ"
      },
      "source": [
        "#### Logistic Models"
      ]
    },
    {
      "cell_type": "code",
      "metadata": {
        "id": "F3FhlKsmxzuJ"
      },
      "source": [
        "from sklearn.linear_model import LogisticRegression\n",
        "import seaborn as sns\n",
        "import scipy.stats as stats\n",
        "\n",
        "#list of regressors\n",
        "reg_list = ['choice', 'is_social', 'aff_feedback_prev',\n",
        "                             'prev_diff_points']\n",
        "\n",
        "#gets beta weights predicting choice \n",
        "def get_weights_model1(df, columns = reg_list):\n",
        "\n",
        "        df = df[columns]\n",
        "        # split dataframe into data and the label to be predicted\n",
        "        data = (df.iloc[:, 1:]).apply(stats.zscore)\n",
        "        \n",
        "        #data labels, recode 1 and 2 as 0 and 1\n",
        "        labels = (df.iloc[:, :1] - 1)\n",
        "        \n",
        "        # make interaction variables\n",
        "        # Affective Feedback from prior trial * point difference\n",
        "        data['prev_aff * difference'] = data['aff_feedback_prev'] * data['prev_diff_points']\n",
        "        \n",
        "        col_list = data.columns.to_list()\n",
        "        \n",
        "        X = np.array(data.values.tolist())\n",
        "        y = np.array(labels.values.tolist()).ravel()\n",
        "\n",
        "        # fit model\n",
        "        clf = LogisticRegression()\n",
        "        clf.fit(X, y)\n",
        "        #coef_dict = {col_list[i]: clf.coef_[0][i] for i in range(len(col_list))}\n",
        "        \n",
        "        return clf.coef_[0].tolist()"
      ],
      "execution_count": 13,
      "outputs": []
    },
    {
      "cell_type": "code",
      "metadata": {
        "id": "pgj3tUrIxzuK",
        "outputId": "5bdfaf32-631d-4b42-c2f4-675bc86c2007",
        "colab": {
          "base_uri": "https://localhost:8080/",
          "height": 266
        }
      },
      "source": [
        "#get subject list from list of files \n",
        "subject_list = (pd.Series([(i.split('/'))[1] for i in file_list]).unique())\n",
        "\n",
        "#make dataframe where subjects are rows and B0 per regressor are columns \n",
        "df = pd.DataFrame()\n",
        "for i in subject_list:\n",
        "    x = list({i: get_weights_model1(Subject(i).df)}.values())[0]\n",
        "    df[i] = x\n",
        "\n",
        "df = df.transpose()\n",
        "df.columns = reg_list\n",
        "#plot\n",
        "sns.set_style(\"whitegrid\")\n",
        "ax = sns.barplot(data=df)"
      ],
      "execution_count": 14,
      "outputs": [
        {
          "output_type": "display_data",
          "data": {
            "image/png": "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\n",
            "text/plain": [
              "<Figure size 432x288 with 1 Axes>"
            ]
          },
          "metadata": {
            "tags": []
          }
        }
=======
 "cells": [
  {
   "cell_type": "markdown",
   "metadata": {},
   "source": [
    "## Reward Signals\n",
    "Data Collected at Rutgers University by David Smith"
   ]
  },
  {
   "cell_type": "markdown",
   "metadata": {},
   "source": [
    "### Variable Key\n",
    "\n",
    "#### Raw Data Names\n",
    "- soc_win - affective feedback in a trial. 0 lose and 1 is win \n",
    "- partner - 0 is nonsocial and 1  is social\n",
    "- deckchoice - 1 or 2 based on participant choice of option. 1 = star, 2 = pentagon\n",
    "- lapse1 and lapse2 - participant did not respond in respective decision phase\n",
    "\n",
    "#### Derived Data Names\n",
    "##### Columns renamed\n",
    "- index - renamed from raw data index\n",
    "- choice - renamed from raw data column 'deckchoice'\n",
    "- is_social - renamed from raw data column 'partner'\n",
    "- aff_feedback_curr - renamed from raw data 'soc_win'\n",
    "\n",
    "##### Columns derived\n",
    "- aff_feedback_prev - aff_feedback_curr shifted by one trial to reflect trial -1\n",
    "- prev_is_social - is_social shifted by one trial to reflect trial -1\n",
    "- prev_aff_fb - affective feedback in the previous trial, 0 is lose and 1 is win\n",
    "- star_points - known value of option 1 \n",
    "- pentagon_points - known value of option 2 \n",
    "- diff_point - star_points - pentagon_points"
   ]
  },
  {
   "cell_type": "code",
   "execution_count": 1,
   "metadata": {},
   "outputs": [],
   "source": [
    "import pandas as pd\n",
    "from utility import *\n",
    "\n",
    "#subject class for easy dataframe access\n",
    "class Subject():\n",
    "\n",
    "    def __init__(self, subnum):\n",
    "        self.subnum = subnum\n",
    "        self.matfiles = [i for i in file_list if str(subnum) in i]\n",
    "        self.df = make_derived_df(self.matfiles)"
   ]
  },
  {
   "cell_type": "markdown",
   "metadata": {},
   "source": [
    "#### Logistic Models"
   ]
  },
  {
   "cell_type": "code",
   "execution_count": 2,
   "metadata": {},
   "outputs": [],
   "source": [
    "from sklearn.linear_model import LogisticRegression\n",
    "import seaborn as sns\n",
    "import scipy.stats as stats\n",
    "\n",
    "#list of regressors\n",
    "subset = ['choice', 'is_social','prev_diff_points']\n",
    "\n",
    "#gets beta weights predicting choice \n",
    "def get_model_weights(df):\n",
    "    \n",
    "    #data labels, recode 1 and 2 as 0 and 1\n",
    "    label = df.choice - 1\n",
    "    \n",
    "    #z-score all regresors in analysis\n",
    "    data= Subject(i).df[subset].iloc[:, 1:].apply(stats.zscore)\n",
    "\n",
    "    data = data.apply(stats.zscore)\n",
    "    #data['social prev_aff * difference'] = data['aff_feedback_prev_social'] * data['prev_diff_points']\n",
    "    #data['nonsocial prev_aff * difference'] = data['aff_feedback_prev_nonsocial'] * data['prev_diff_points']\n",
    "\n",
    "    \n",
    "    y = np.array(label.values.tolist()).ravel()\n",
    "    x = np.array(data.values.tolist())\n",
    "    clf = LogisticRegression()\n",
    "    clf.fit(x, y)\n",
    "    return clf.coef_[0].tolist() "
   ]
  },
  {
   "cell_type": "code",
   "execution_count": 4,
   "metadata": {},
   "outputs": [
    {
     "data": {
      "image/png": "iVBORw0KGgoAAAANSUhEUgAAAXQAAAD6CAYAAACxrrxPAAAAOXRFWHRTb2Z0d2FyZQBNYXRwbG90bGliIHZlcnNpb24zLjMuMSwgaHR0cHM6Ly9tYXRwbG90bGliLm9yZy/d3fzzAAAACXBIWXMAAAsTAAALEwEAmpwYAAAVxUlEQVR4nO3da1CU593H8d+yCwuogBrxMBAsaoxxBSfrUHuYTFqJmclYhx4SF3GVSGynSdQ0VmuqPYghsRbSWZMQk6lTjRIVOjjT6WRIbTQv+kJjaNp1waI2opiaJzE+IIEnCy77vOi4kaAsp83Cle/nzXpz33vvXwa+XLNHSzAYDAoAMOLFRHsAAMDQIOgAYAiCDgCGIOgAYAiCDgCGsEXrhru6utTW1qbY2FhZLJZojQEAI0YwGFRnZ6dGjRqlmJie6/GoBb2trU2nT5+O1s0DwIh1xx13aMyYMT2+HrWgx8bGSvrvYHFxcdEaAwBGjI6ODp0+fTrUz8+LWtCv380SFxcnu90erTEAYMS51d3UPCgKAIYg6ABgCIIOAIYg6ABgCIIOAIYg6ABgCIIOIKKOHTumJ598UseOHYv2KMaL2vPQAXw57N69W2fOnFF7e7vmz58f7XGMxgodQES1t7d3u0TkEHQAMETYoHd2dsrlcmnevHmqqam56TFNTU1yOBw6efLkkA8IAOibsPeh22w27dixQwcPHrzlMTt37tS8efOGdDAAQP+EXaFbLBalpqbecn9DQ4NGjx6tSZMmDelgAID+GfR96C+99JJWrVo1FLMAAAZhUE9bfOedd5Senq7bbrttwOfw+XyDGQHAMOf3+0OXtbW1UZ7GbIMKen19vf7xj3+oqKhIp0+fVmNjo8rLyzVu3Lg+n8PhcPB+6IDBrv9+2+12OZ3OKE8zsvn9/l4XwX0K+tq1a+Xz+ZSYmCiv16uUlBTl5uZq+fLlWr58uSRp48aNKigo6FfMAQBDp09B93g8YY/Ztm3boIcBAAwcLywCAEMQdAAwBEEHAEMQdAAwBEEHAEMQdAAwBEEHAEMQdAAwBEEHAEMQdAAwBEEHAEMQdAAwBEEHAEMQdAAwBEEHAEMQdAAwBEEHAEMQdAAwRNigd3Z2yuVyad68eaqpqem27/z581q6dKkKCgq0YsUKXbx4MWKDAgB6FzboNptNO3bs0IoVK3rsS0pKUnl5uSoqKlRUVKSdO3dGZEgAQHhhPyTaYrEoNTX1pvvGjh0b+ndsbKysVuvQTQYA6JewQe8Lv9+vF154QcXFxf2+rs/nG4oRAAxTfr8/dFlbWxvlacw26KAHAgGtX79ey5cv17Rp0/p9fYfDIbvdPtgxAAxT13+/7Xa7nE5nlKcZ2fx+f6+L4EE/y2XLli2aN2+e7r///sGeCgAwCH1aoa9du1Y+n0+JiYnyer1KSUlRbm6urly5okOHDmnu3Lk6fPiwZs+erY0bN0Z6ZgDATfQp6B6P56Zfz8zM1MmTJ4d0IADAwPDCIgAwBEEHAEMQdAAwBEEHAEMQdAAwBEEHAEMQdAAwBEEHAEMQdAAwBEEHAEMQdAAwBEEHIqTrWme0R8AwFMmfiyH5gAsAPcXYYlW7/ZFojxF1/v/9n9Al3w/JueH3ETs3K3QAMARBBwBDEHQAMARBBwBDEHQAMETYoHd2dsrlcmnevHmqqanpsf/o0aNasmSJXC6XvF5vRIYEAIQX9mmLNptNO3bs0MGDB3vsCwQC8ng82rdvn9ra2vTEE09o//79ERkUANC7sEG3WCxKTU296b7GxkZNnTpVo0eP1ujRo3Xt2jX5/X7Z7fYhHxQA0LtBvbCopaVFSUlJoe2kpCQ1Nzdr4sSJfT6Hz+cbzAjAsOV0OqM9Aoap2traiJx3UEFPTk5Wa2traLu1tVUpKSn9OofD4WBFD+BLZaB/7P1+f6+L4EEFPSMjQ42NjWpvb1dbW5usVitxBoAo6VPQ165dK5/Pp8TERHm9XqWkpCg3N1eZmZl6/PHH9fDDD8tiseipp56K9LwAgFvoU9A9Hs8t9y1YsEALFiwYsoEAAAPDC4sAwBAEHQAMQdABwBAEHQAMQdABwBAEHQAMQdABwBAEHQAMQdABwBAEHQAMQdABwBAEHQAMQdABwBAEHQAMQdABwBAEHQAMQdABwBAEHQAM0aegV1ZWyuVyye12q6mpqdu+Q4cO6fvf/74efPBB7dmzJyJDAgDCCxv05uZmVVVVad++fVq/fr1KS0u77X/55Ze1d+9eHTx4UAcPHlRHR0fEhgUA3FrYD4n2er3KycmRzWZTVlaWzp07121/Zmam2tvbJUnx8fGyWq2RmRQA0KuwQW9paVFycnJoOxgMdtt///33Ky8vT1arVUVFRf0Ous/n69fxwEjhdDqjPQKGqdra2oicN2zQk5KS1NDQENqOifnsXppPPvlEL7/8smpqahQXF6eVK1cqNzdXU6ZM6fMADodDdru9n2MDwMg10D/2fr+/10Vw2PvQs7OzdeLECQUCAdXV1SkjI+OzK8fEKDY2VomJiYqLi1N8fLw++eSTAQ0KABicsCv0lJQU5eXlqaCgQDabTSUlJaqurlZaWppycnL03e9+V0uWLJHFYtHcuXN1xx13fBFzAwA+J2zQJSk/P1/5+fmh7RtX6YWFhSosLBzywQAA/cMLiwDAEAQdAAxB0AHAEAQdQETZbTHdLhE5fIcBRNTC6WOVOTZeC6ePjfYoxuvTs1wAYKBmTUjUrAmJ0R7jS4EVOgAYgqADgCEIOgAYgqADgCEIOgAYgqADgCEIOgAYgqADgCEIOgAYgqADgCEIOgAYgqADgCH69OZclZWVqq6uVmxsrJ555hmlp6eH9n388cfasmWLmpubNWHCBJWVlUVsWADArYUNenNzs6qqqrR//37V19ertLRUHo8ntH/btm366U9/qttvvz2igwIAehf2Lhev16ucnBzZbDZlZWXp3LlzoX2BQEDvvfeenn/+eS1btkyvv/56RIcFANxa2BV6S0uLkpOTQ9vBYDD0748//lgNDQ367W9/q0mTJmnp0qX6+te/rpSUlD4P4PP5+jcxMEI4nc5oj4Bhqra2NiLnDRv0pKQkNTQ0hLZjYj5b1CcnJ2vKlCnKzMyUJM2ePVsXLlzoV9AdDofsdns/RgaAkW2gf+z9fn+vi+Cwd7lkZ2frxIkTCgQCqqurU0ZGRmif3W7XxIkTdfnyZQUCAZ05c0ZTpkwZ0KAAgMEJu0JPSUlRXl6eCgoKZLPZVFJSourqaqWlpSknJ0cbNmzQ2rVr1dnZqe985zu67bbbvoi5AQCf06enLebn5ys/Pz+0feMqfc6cOaqoqBj6yQAA/cILiwDAEAQdAAxB0AHAEAQdAAxB0AHAEAQdAAxB0AHAEAQdAAxB0AHAEAQdAAxB0AHAEAQdAAxB0AHAEAQdAAxB0AHAEAQdAAxB0AHAEH0KemVlpVwul9xut5qamnrsb21t1Ve/+lXV1NQM+YAAgL4JG/Tm5mZVVVVp3759Wr9+vUpLS3scs2vXLmVnZ0dkQABA34QNutfrVU5Ojmw2m7KysnTu3Llu+y9fvqympibNmTMnYkMCAMIL+yHRLS0tSk5ODm0Hg8Fu+3fu3KlVq1bp8OHDAxrA5/MN6HrAcOd0OqM9Aoap2traiJw3bNCTkpLU0NAQ2o6J+WxR39TUpKtXr+rOO+8ccNAdDofsdvuArgsAI9FA/9j7/f5eF8Fhg56dna3y8nIFAgH961//UkZGRmjfqVOndOHCBRUVFenChQsaNWqUpk2bphkzZgxoWADAwIUNekpKivLy8lRQUCCbzaaSkhJVV1crLS1NCxcu1MKFCyVJzz//vGbMmEHMASBKwgZdkvLz85Wfnx/avnGVft3q1auHbioAQL/xwiIAMARBBwBDEHQAMARBBwBDEHQAMARBBwBDEHQAMARBBwBDEHQAMARBBwBDEHQAMARBBwBDEHQAMARBBwBDEHQAMARBBwBDEHQAMARBBwBD9Okj6CorK1VdXa3Y2Fg988wzSk9PlyRdvXpVq1evVmdnp4LBoDZv3qzZs2dHdGAAwM2FDXpzc7Oqqqq0f/9+1dfXq7S0VB6PR5IUFxen7du3a+LEifr3v/+tp59+Wn/4wx8iPjQAoKewQfd6vcrJyZHNZlNWVpbOnTsX2hcfH6/4+HhJ/4271WqN3KQAgF6FDXpLS4uSk5ND28FgsMcxwWBQzz77rB555JF+D+Dz+fp9HWAkcDqd0R4Bw1RtbW1Ezhs26ElJSWpoaAhtx8T0fBy1pKREOTk5mj9/fr8HcDgcstvt/b4eAIxUA/1j7/f7e10Eh32WS3Z2tk6cOKFAIKC6ujplZGR0279z505ZrVYVFhYOaEAAwNAIu0JPSUlRXl6eCgoKZLPZVFJSourqaqWlpSk9PV0ej0dOp1Nut1upqakqKyv7IuYGAHxOn562mJ+fr/z8/ND2jav0U6dODf1UAIB+44VFAGAIgg4AhiDoAGAIgg4AhiDoBjh27JiefPJJHTt2LNqjAIiiPj3LBcPb7t27debMGbW3tw/oxV0AzMAK3QDt7e3dLgF8ORF0ADAEQQcAQxB0ADAEQQcAQxB0ADAEQQcAQxB0ADAEQQcAQxB0ADAEQQcAQxB0ADBEn4JeWVkpl8slt9utpqambvu8Xq9cLpeWLFmio0ePRmRIAEB4Yd9tsbm5WVVVVdq/f7/q6+tVWloqj8cT2v/ss8/K4/Fo9OjRKigo0D333COr1RrRoa/r6AwoLvaLuS2MHPxc4MsqbNC9Xq9ycnJks9mUlZWlc+fOhfb5/X4FAgFNnDhRkjR16lQ1NjZq2rRpkZv4BnGxVi3dUPGF3NZwdvlyqyTpg8utfD8kvba9INojAFERNugtLS1KTk4ObQeDwdC/m5ubNWbMmNB2UlKSWlpa+jWAz+fr1/E3mjVrNr+8kpYvf0Pvv39Vk24bo1f5fqi9/VOdOlUX7THkuGuWnBt+H+0xMMz4/69dvvpTETl32KAnJSWpoaEhtB0T89nd7snJyWptbQ1tt7a2dot/XzgcDtnt9n5dB+hNYmK8nE5ntMcAbsqekDjgn0+/39/rIjjsg6LZ2dk6ceKEAoGA6urqlJGREdoXHx8vq9WqDz/8UO3t7Tp//ny3/QCAL07YFXpKSory8vJUUFAgm82mkpISVVdXKy0tTTk5Odq4caPWrFmjYDCoxx57TDYbn2oHANHQp/rm5+crPz8/tH3jKjw7O1sHDhwY+skAAP3CC4sAwBAEHQAMQdABwBAEHQAMQdABwBAE3QCJiYndLgF8ORF0AxQWFio7O1uFhYXRHgVAFPEqIAPMnz9f8+fPj/YYAKKMFToAGIKgA4AhCDoAGIKgA4AhCDoAGIKgA4Ahova0xesfZdfR0RGtEQBgRLneyxs/CvRGUQt6Z2enJOn06dPRGgEARqTOzk7Fx8f3+LoleKvUR1hXV5fa2toUGxsri8USjREAYEQJBoPq7OzUqFGjun2+83VRCzoAYGjxoCgAGIKgA4AhCDoAGIKgA4AhCDoAGIKgA4AhCDoAGIKgAxi048ePq7i4WJJUUlKi1tZWBYNBPfroo3K73Xrvvff0q1/9SsuWLdPbb789qNu6fv5bqaioGNT5RzKCPgx89NFHKisri/jthPtFWLRoUcRnwPARDAZv+Z4gg7Fp0yaNGTNGH330kfx+v/bu3avMzEz9/e9/1759+5STkzMk57+V/fv3D+r8IxmfKToMTJgwQevWrYv47WzatCnit4Hh5fjx43rppZeUkJCgS5cuaePGjXrxxRflcDh06tQplZaWqqysTO+//74kaevWrTp79qy8Xq9+8pOfSJK+973vqaKiQgkJCd3O/eGHH2rdunWKi4vT+PHjNXr0aEmS2+2Wx+PRr3/9a/l8Prndbt15551qamqS2+3Wc889pwkTJnQ7l9vt1owZM3T27FmNHz9epaWlslgs2rx5s86fP6+YmBgVFxfrK1/5Suj8b731lo4ePapAIKCLFy/queee0+nTp3Xx4kW53W7l5uYqPT1dL774ohITE+V0OvXEE09E/pseRazQh4GLFy/qRz/6kXbs2KGHHnpIy5cv1xtvvHHTY292zO9+9zu5XC65XC69++67kqT6+notW7ZMbrdbW7dulfTfX5orV67o7NmzcrvdKigo0I9//GPe8dJwV69e1QsvvKBXXnlFpaWlkiSn06ndu3frL3/5i2bNmqVXX31VmzZtksfj0T333KO//e1vCgaDOnnypKZPn94j5pL0yiuvaNmyZdq1a5duv/32Hvt//vOfa+7cudq7d682bdqktLQ07d27t0fMr/va176mV199VePHj9ebb76pN998UwkJCaqoqND69etDs98oLi5O5eXlevzxx/XHP/5RDzzwQOh2VqxYoZqaGhUXF2vv3r1as2bNIL+Twx8r9GHkyJEjqqysVFxcnLq6uvp0TH19vRoaGnTgwAFdunRJa9asUVVVlYqLi/Wb3/xGGRkZCgQC3c6RlpamPXv2KCYmRmVlZfrrX/+qBx544Iv4LyIK7rrrLlmtVqWmpsrv9yshIUFz586VJJ05c0b//Oc/dfjwYUlSQkKCYmNjNWfOHNXW1urw4cNavHjxTc/b2NioVatWSZKysrL01ltvDWrOrKys0GVjY6MkKTs7O/S1Cxcu9LjOrFmzJEmTJ09WS0tLj/2PPfaYdu3apba2Ni1atEjf+ta3BjXjcEfQh5H169frF7/4hSwWi1atWqVp06aFPaaxsTH0Qz958mR9+umnkqS2tjZlZGRIkqxWa7dz/Oc//9G2bdvU3t6uy5cva+zYsRH+nyGa6uvr1dXVpStXriguLk6SQu/UN336dM2cOVMul0vSZ++3vXjxYh06dEh1dXXasGHDTc87depUeb1e3XffffJ6vYOe8+TJk5o4caJ8Pp+cTqcsFouOHz+uxYsXy+v1Kj09vcd1bnyn1uuPB9z4tdTUVBUXF6ujo4Og44t199136xvf+IbeeecdlZeX3/SB0s8fs3LlSv3pT3+SJF26dCn0HsmjRo1SU1OT0tPT1dXV1e2tNl977TU99NBDys3NVWlpaUQeGMPwMX78eD366KP64IMP9LOf/Uzl5eWhfQ8++KC2bNmi119/XcFgUAsWLFBhYaHuvvtuPfXUU7r33nt7LAiuW7VqldatW6cDBw5o0qRJstvtg5rz7bff1p49ezRu3DgtWLBAMTExOnLkiJYuXSqLxRJ6Fk049957r374wx/qvvvu0/nz5/Xuu+/q2rVr+sEPfjCo+UYC3j53GLh48aK2bt2qa9euqaOjQx0dHVq9erW++c1v9ji2qKioxzFlZWU6ceKEgsGgNmzYIKfTqfr6ej399NOyWq2aOXOmNm/eHHow6dSpUyopKVFGRobGjBmjmTNnqqioSIsWLdKf//znKHwHECnHjx/XG2+8oV/+8pfRHqVX1382x40bF+1RRjSCDhhsqIK+fft2nTx5MrQ9efJkbd++fUDnWrlyZegTyyTp29/+to4cOULQhwBBH8Zu9oP/8MMPR3EiAMMZQQcAQ/A8dAAwBEEHAEMQdAAwBEEHAEMQdAAwxP8DfdURq6tJ0ggAAAAASUVORK5CYII=\n",
      "text/plain": [
       "<Figure size 432x288 with 1 Axes>"
>>>>>>> 607d8dd3bd0f490a97ede577c394b7e4baac1f67
      ]
    }
<<<<<<< HEAD
  ]
}
=======
   ],
   "source": [
    "#get subject list from list of files \n",
    "subject_list = (pd.Series([(i.split('/'))[1] for i in file_list]).unique())\n",
    "\n",
    "#make dataframe where subjects are rows and B0 per regressor are columns \n",
    "df = pd.DataFrame()\n",
    "for i in subject_list: \n",
    "    x = list({i: get_model_weights(Subject(i).df)}.values())[0]\n",
    "    df[i] = x\n",
    "\n",
    "df = df.transpose()\n",
    "\n",
    "df.columns = ['is_social',\n",
    "              'prev_diff_points']\n",
    "\n",
    "#plot\n",
    "sns.set(font_scale=.8)\n",
    "sns.set_style(\"whitegrid\")\n",
    "ax = sns.barplot(data=df)#"
   ]
  },
  {
   "cell_type": "code",
   "execution_count": null,
   "metadata": {},
   "outputs": [],
   "source": [
    "Subject(1001).df"
   ]
  }
 ],
 "metadata": {
  "kernelspec": {
   "display_name": "Python 3",
   "language": "python",
   "name": "python3"
  },
  "language_info": {
   "codemirror_mode": {
    "name": "ipython",
    "version": 3
   },
   "file_extension": ".py",
   "mimetype": "text/x-python",
   "name": "python",
   "nbconvert_exporter": "python",
   "pygments_lexer": "ipython3",
   "version": "3.8.2"
  }
 },
 "nbformat": 4,
 "nbformat_minor": 4
}
>>>>>>> 607d8dd3bd0f490a97ede577c394b7e4baac1f67
