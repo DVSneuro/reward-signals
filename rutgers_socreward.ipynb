{
  "nbformat": 4,
  "nbformat_minor": 0,
  "metadata": {
    "kernelspec": {
      "display_name": "Python 3",
      "language": "python",
      "name": "python3"
    },
    "language_info": {
      "codemirror_mode": {
        "name": "ipython",
        "version": 3
      },
      "file_extension": ".py",
      "mimetype": "text/x-python",
      "name": "python",
      "nbconvert_exporter": "python",
      "pygments_lexer": "ipython3",
      "version": "3.8.2"
    },
    "colab": {
      "name": "rutgers_socreward.ipynb",
      "provenance": [],
      "toc_visible": true
    }
  },
  "cells": [
    {
      "cell_type": "markdown",
      "metadata": {
        "id": "Ehv8slTZxzuB"
      },
      "source": [
        "## Reward Signals\n",
        "Data Collected at Rutgers University by David Smith"
      ]
    },
    {
      "cell_type": "code",
      "metadata": {
        "id": "k2ZWbh3Qx82q",
        "outputId": "b3897c04-2497-41b6-8513-e56d62b8e0a2",
        "colab": {
          "base_uri": "https://localhost:8080/"
        }
      },
      "source": [
        "!git clone https://github.com/CalebRHaynes/reward-signals.git"
      ],
      "execution_count": 2,
      "outputs": [
        {
          "output_type": "stream",
          "text": [
            "Cloning into 'reward-signals'...\n",
            "remote: Enumerating objects: 831, done.\u001b[K\n",
            "remote: Counting objects: 100% (831/831), done.\u001b[K\n",
            "remote: Compressing objects: 100% (800/800), done.\u001b[K\n",
            "remote: Total 1373 (delta 32), reused 828 (delta 30), pack-reused 542\u001b[K\n",
            "Receiving objects: 100% (1373/1373), 16.79 MiB | 22.77 MiB/s, done.\n",
            "Resolving deltas: 100% (85/85), done.\n"
          ],
          "name": "stdout"
        }
      ]
    },
    {
      "cell_type": "code",
      "metadata": {
        "id": "TD62r7mAyAVF",
        "outputId": "2da8c19d-dc31-49c3-b4f8-b28ec69dfd98",
        "colab": {
          "base_uri": "https://localhost:8080/"
        }
      },
      "source": [
        "%cd reward-signals/\r\n",
        "!ls"
      ],
      "execution_count": 11,
      "outputs": [
        {
          "output_type": "stream",
          "text": [
            "/content/reward-signals\n",
            "analyze_behavior.m     make_3col_files_m03.m\t      scanner_practice.m\n",
            "analyze_learning.m     make_3col_files_m04.m\t      ScanningProcedures.docx\n",
            "analyze_ratings.m      make_3col_files_m05.m\t      simulate_points3.m\n",
            "CardTask.m\t       make_3col_files_m06.m\t      SocialExp_MyBad.xlsx\n",
            "data\t\t       make_3col_files_SingleTrial.m  SocRewardTask_outside.m\n",
            "data_csv\t       make_TbTresponses.m\t      SocRewardTask_scanner.m\n",
            "evfiles_m02\t       outcomes.mat\t\t      starstim.m\n",
            "fsl\t\t       poster_figures\t\t      TaskInstructions.docx\n",
            "get_behavior.m\t       ptb\t\t\t      utility.py\n",
            "get_summary.m\t       QA_09-Nov-2016runs.xlsx\t      Vwalk_all_v1.mat\n",
            "imgs\t\t       QA_summary.m\t\t      Vwalk_all_v2.mat\n",
            "InstructionsQuiz.docx  randomwalk3.m\t\t      Vwalk_all_v3.mat\n",
            "L1_SingleTrial.sh      randomwalk4.m\t\t      Vwalk_all_v4.mat\n",
            "make_3col_files.m      rutgers_socreward.ipynb\t      Vwalk_all_v5.mat\n",
            "make_3col_files_m02.m  rw\n"
          ],
          "name": "stdout"
        }
      ]
    },
    {
      "cell_type": "markdown",
      "metadata": {
        "id": "8LlcMlbVxzuI"
      },
      "source": [
        "### Variable Key\n",
        "\n",
        "#### Raw Data Names\n",
        "- soc_win - affective feedback in a trial. 0 lose and 1 is win \n",
        "- partner - 0 is nonsocial and 1  is social\n",
        "- deckchoice - 1 or 2 based on participant choice of option. 1 = star, 2 = pentagon\n",
        "- lapse1 and lapse2 - participant did not respond in respective decision phase\n",
        "\n",
        "#### Derived Data Names\n",
        "##### Columns renamed\n",
        "- index - renamed from raw data index\n",
        "- choice - renamed from raw data column 'deckchoice'\n",
        "- is_social - renamed from raw data column 'partner'\n",
        "- aff_feedback_curr - renamed from raw data 'soc_win'\n",
        "\n",
        "##### Columns derived\n",
        "- aff_feedback_prev - aff_feedback_curr shifted by one trial to reflect trial -1\n",
        "- prev_is_social - is_social shifted by one trial to reflect trial -1\n",
        "- prev_aff_fb - affective feedback in the previous trial, 0 is lose and 1 is win\n",
        "- star_points - known value of option 1 \n",
        "- pentagon_points - known value of option 2 \n",
        "- diff_point - star_points - pentagon_points"
      ]
    },
    {
      "cell_type": "code",
      "metadata": {
        "id": "kXSz_k2kxzuI"
      },
      "source": [
        "import pandas as pd\n",
        "from utility import *\n",
        "\n",
        "#sub class for easy dataframe access\n",
        "class Subject():\n",
        "\n",
        "    def __init__(self, subnum):\n",
        "        self.subnum = subnum\n",
        "        self.matfiles = [i for i in file_list if str(subnum) in i]\n",
        "        self.df = make_derived_df(self.matfiles)"
      ],
      "execution_count": 12,
      "outputs": []
    },
    {
      "cell_type": "markdown",
      "metadata": {
        "id": "NHgTB-4ExzuJ"
      },
      "source": [
        "#### Logistic Models"
      ]
    },
    {
      "cell_type": "code",
      "metadata": {
        "id": "F3FhlKsmxzuJ"
      },
      "source": [
        "from sklearn.linear_model import LogisticRegression\n",
        "import seaborn as sns\n",
        "import scipy.stats as stats\n",
        "\n",
        "#list of regressors\n",
        "reg_list = ['choice', 'is_social', 'aff_feedback_prev',\n",
        "                             'prev_diff_points']\n",
        "\n",
        "#gets beta weights predicting choice \n",
        "def get_weights_model1(df, columns = reg_list):\n",
        "\n",
        "        df = df[columns]\n",
        "        # split dataframe into data and the label to be predicted\n",
        "        data = (df.iloc[:, 1:]).apply(stats.zscore)\n",
        "        \n",
        "        #data labels, recode 1 and 2 as 0 and 1\n",
        "        labels = (df.iloc[:, :1] - 1)\n",
        "        \n",
        "        # make interaction variables\n",
        "        # Affective Feedback from prior trial * point difference\n",
        "        data['prev_aff * difference'] = data['aff_feedback_prev'] * data['prev_diff_points']\n",
        "        \n",
        "        col_list = data.columns.to_list()\n",
        "        \n",
        "        X = np.array(data.values.tolist())\n",
        "        y = np.array(labels.values.tolist()).ravel()\n",
        "\n",
        "        # fit model\n",
        "        clf = LogisticRegression()\n",
        "        clf.fit(X, y)\n",
        "        #coef_dict = {col_list[i]: clf.coef_[0][i] for i in range(len(col_list))}\n",
        "        \n",
        "        return clf.coef_[0].tolist()"
      ],
      "execution_count": 13,
      "outputs": []
    },
    {
      "cell_type": "code",
      "metadata": {
        "id": "pgj3tUrIxzuK",
        "outputId": "5bdfaf32-631d-4b42-c2f4-675bc86c2007",
        "colab": {
          "base_uri": "https://localhost:8080/",
          "height": 266
        }
      },
      "source": [
        "#get subject list from list of files \n",
        "subject_list = (pd.Series([(i.split('/'))[1] for i in file_list]).unique())\n",
        "\n",
        "#make dataframe where subjects are rows and B0 per regressor are columns \n",
        "df = pd.DataFrame()\n",
        "for i in subject_list:\n",
        "    x = list({i: get_weights_model1(Subject(i).df)}.values())[0]\n",
        "    df[i] = x\n",
        "\n",
        "df = df.transpose()\n",
        "df.columns = reg_list\n",
        "#plot\n",
        "sns.set_style(\"whitegrid\")\n",
        "ax = sns.barplot(data=df)"
      ],
      "execution_count": 14,
      "outputs": [
        {
          "output_type": "display_data",
          "data": {
            "image/png": "[encoded data removed]",
            "text/plain": [
              "<Figure size 432x288 with 1 Axes>"
            ]
          },
          "metadata": {
            "tags": []
          }
        }
      ]
    }
  ]
}